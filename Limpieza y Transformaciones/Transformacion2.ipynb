{
 "cells": [
  {
   "cell_type": "code",
   "execution_count": 1,
   "metadata": {},
   "outputs": [],
   "source": [
    "import numpy as np\n",
    "import pandas as pd"
   ]
  },
  {
   "cell_type": "code",
   "execution_count": 4,
   "metadata": {},
   "outputs": [],
   "source": [
    "tables = [\"f_common_player_info\", \"f_draft_combine_stats\", \"f_draft_history\", \"f_game_info\", \"f_game\", \"f_inactive_players\",\n",
    "          \"f_line_score\", \"f_other_stats\", \"f_play_by_play\", \"f_player\", \"f_team_details\", \"f_team\"]\n",
    "\n",
    "# Cargar cada archivo CSV en un DataFrame con el nombre del elemento en `tables`\n",
    "for table_name in tables:\n",
    "    globals()[table_name[2:]] = pd.read_csv(f\"Filtrados/csv/{table_name}.csv\")"
   ]
  },
  {
   "cell_type": "code",
   "execution_count": 5,
   "metadata": {},
   "outputs": [],
   "source": [
    "tables = [\"common_player_info\", \"draft_combine_stats\", \"draft_history\", \"game_info\", \"game\", \"inactive_players\",\n",
    "          \"line_score\", \"other_stats\", \"play_by_play\", \"player\", \"team_details\", \"team\"]\n"
   ]
  },
  {
   "cell_type": "code",
   "execution_count": 29,
   "metadata": {},
   "outputs": [],
   "source": [
    "from collections import Counter\n",
    "# Función personalizada para encontrar palabras comunes en cada grupo\n",
    "def palabras_comunes(series, umbral=0.5):\n",
    "    # Dividir cada string en palabras\n",
    "    palabras_por_fila = series.apply(lambda x: set(x.split()))\n",
    "    \n",
    "    # Unir todas las palabras de todos los registros en un solo conteo\n",
    "    contador_total = Counter(word for words in palabras_por_fila for word in words)\n",
    "    \n",
    "    # Calcular la cantidad mínima de ocurrencias para ser considerada común\n",
    "    limite = len(series) * umbral\n",
    "\n",
    "    # Encontrar palabras que aparecen en al menos 'limite' registros\n",
    "    palabras_comunes = [palabra for palabra, frecuencia in contador_total.items() if frecuencia >= limite]\n",
    "    \n",
    "    # Retornar las palabras comunes encontradas, o 'moda: palabra' si aplicable\n",
    "    if palabras_comunes:\n",
    "        return ' '.join(palabras_comunes)\n",
    "    else:\n",
    "        return None"
   ]
  },
  {
   "cell_type": "code",
   "execution_count": 20,
   "metadata": {},
   "outputs": [],
   "source": [
    "# Preparar columnas para el formateo\n",
    "columnas_string = ['player_id', 'player_name', 'school', 'country', 'last_affiliation', 'jersey', 'position', \n",
    "'team_id', 'team_name', 'team_abbreviation', 'team_code', 'team_city', 'playercode',\n",
    "'position', 'draft_type', 'organization', 'organization_type', 'game_id', 'team_id_home',\n",
    "'team_abbreviation_home', 'team_name_home', 'matchup_home', 'team_id_away',\n",
    "'team_abbreviation_away', 'team_name_away', 'matchup_away', 'season_type', 'team_city_name_home',\n",
    "'team_nickname_home', 'team_city_name_away', 'team_nickname_away', 'league_id', 'eventnum',\n",
    "'eventmsgtype', 'eventmsgactiontype', 'homedescription', 'visitordescription', 'score',\n",
    "'person1type', 'player1_id', 'player1_name', 'player1_team_id', 'player1_team_city', \n",
    "'player1_team_nickname', 'player1_team_abbreviation', 'player2_id', 'player2_name',\n",
    "'player2_team_id', 'player2_team_city', 'player2_team_nickname', 'player2_team_abbreviation',\n",
    "'player3_id', 'player3_name', 'player3_team_id', 'player3_team_city', 'player3_team_nickname',\n",
    "'player3_team_abbreviation', 'owner', 'generalmanager', 'headcoach', 'dleagueaffiliation', 'team_state',\n",
    "'season_exp', 'from_year', 'to_year', 'draft_year', 'round_pick', 'draft_number', 'season', 'round_number',\n",
    "'overall_pick', 'season_id', 'arena','yearfounded','year_founded']\n",
    "columnas_bool = ['rosterstatus', 'games_played_current_season_flag', 'dleague_flag', 'nba_flag',\n",
    "'games_played_flag', 'greatest_75_flag', 'player_profile_flag', 'wl_home', 'video_available_home',\n",
    "'wl_away', 'video_available_away', 'video_available_flag', 'is_active']\n",
    "columnas_date = ['birthdate', 'game_date']\n",
    "columnas_timestring = ['game_time', 'wctimestring', 'pctimestring']\n",
    "columnas_pulgadas = ['height', 'height_wo_shoes', 'height_w_shoes', 'wingspan', 'standing_reach', 'hand_length',\n",
    "'hand_width', 'standing_vertical_leap', 'max_vertical_leap']\n",
    "columnas_libras = ['weight']\n",
    "columnas_float3 = ['body_fat_pct', 'fg_pct_home', 'fg3_pct_home', 'ft_pct_home', 'fg_pct_away', 'fg3_pct_away', 'ft_pct_away']\n",
    "columnas_tiempo = ['lane_agility_time', 'modified_lane_agility_time', 'three_quarter_sprint']\n",
    "columnas_int = ['bench_press', 'attendance', 'fgm_home',\n",
    "'fga_home', 'fg3m_home', 'fg3a_home', 'ftm_home', 'fta_home', 'oreb_home', 'dreb_home',\n",
    "'reb_home', 'ast_home', 'stl_home', 'blk_home', 'tov_home', 'pts_home', 'plus_minus_home',\n",
    "'fgm_away', 'fga_away', 'fg3m_away', 'fg3a_away', 'ftm_away', 'fta_away', 'oreb_away',\n",
    "'dreb_away', 'reb_away', 'ast_away', 'stl_away', 'blk_away', 'tov_away', 'pf_away', 'pts_away',\n",
    "'plus_minus_away', 'game_sequence', 'pts_qtr1_home', 'pts_qtr2_home', 'pts_qtr3_home',\n",
    "'pts_qtr4_home', 'pts_ot1_home', 'pts_ot2_home', 'pts_ot3_home', 'pts_ot4_home', 'pts_ot5_home',\n",
    "'pts_ot6_home', 'pts_ot7_home', 'pts_ot8_home', 'pts_ot9_home', 'pts_ot10_home', 'pts_home',\n",
    "'pts_qtr1_away', 'pts_qtr2_away', 'pts_qtr3_away', 'pts_qtr4_away', 'pts_ot1_away',\n",
    "'pts_ot2_away', 'pts_ot3_away', 'pts_ot4_away', 'pts_ot5_away', 'pts_ot6_away', 'pts_ot7_away',\n",
    "'pts_ot8_away', 'pts_ot9_away', 'pts_ot10_away', 'pts_away', 'pts_paint_home', 'pts_2nd_chance_home',\n",
    "'pts_fb_home', 'largest_lead_home', 'lead_changes', 'times_tied', 'team_turnovers_home',\n",
    "'total_turnovers_home', 'team_rebounds_home', 'pts_off_to_home', 'pts_paint_away',\n",
    "'pts_2nd_chance_away', 'pts_fb_away', 'largest_lead_away', 'team_turnovers_away',\n",
    "'total_turnovers_away', 'team_rebounds_away', 'pts_off_to_away', 'period', 'scoremargin',\n",
    "'arenacapacity']\n",
    "columnas_fracciones = ['spot_fifteen_corner_left', 'spot_fifteen_break_left', 'spot_fifteen_top_key',\n",
    "'spot_fifteen_break_right', 'spot_fifteen_corner_right', 'spot_college_corner_left',\n",
    "'spot_college_break_left', 'spot_college_top_key', 'spot_college_break_right',\n",
    "'spot_college_corner_right', 'spot_nba_corner_left', 'spot_nba_break_left',\n",
    "'spot_nba_top_key', 'spot_nba_break_right', 'spot_nba_corner_right',\n",
    "'off_drib_fifteen_break_left', 'off_drib_fifteen_top_key', 'off_drib_fifteen_break_right',\n",
    "'off_drib_college_break_left', 'off_drib_college_top_key', 'off_drib_college_break_right',\n",
    "'on_move_fifteen', 'on_move_college']\n",
    "columnas_ratios = ['team_wins_losses_home', 'team_wins_losses_away']\n"
   ]
  },
  {
   "cell_type": "code",
   "execution_count": 21,
   "metadata": {},
   "outputs": [],
   "source": [
    "# Aplicacion de formatos correspondientes\n",
    "# Recorrer cada DataFrame en la lista tables\n",
    "for df in tables:\n",
    "    \n",
    "    # Convertir columnas a string\n",
    "    for col in globals()[df].columns.intersection(columnas_string + columnas_bool + columnas_timestring):\n",
    "        globals()[df][col] = globals()[df][col].astype(str)\n",
    "    \n",
    "    # Convertir columnas a datetime\n",
    "    for col in globals()[df].columns.intersection(columnas_date):\n",
    "        globals()[df][col] = pd.to_datetime(globals()[df][col])  # 'coerce' convierte valores inválidos a NaT\n",
    "    \n",
    "    ''' # Aplicar formato para columnas en pulgadas\n",
    "    for col in globals()[df].columns.intersection(columnas_pulgadas):\n",
    "        globals()[df][col] = globals()[df][col].astype(float).map(lambda x: f\"{x:.2f} in\")\n",
    "    \n",
    "    # Aplicar formato para columnas en libras\n",
    "    for col in globals()[df].columns.intersection(columnas_libras):\n",
    "        globals()[df][col] = globals()[df][col].astype(float).map(lambda x: f\"{x:.2f} lbs\")'''\n",
    "    \n",
    "    # Aplicar formato para columnas float con 3 decimales\n",
    "    for col in globals()[df].columns.intersection(columnas_float3 + columnas_pulgadas + columnas_libras + columnas_tiempo):\n",
    "        globals()[df][col] = globals()[df][col].astype(float).round(3)\n",
    "    \n",
    "    '''# Aplicar formato para columnas de tiempo en segundos\n",
    "    for col in globals()[df].columns.intersection(columnas_tiempo):\n",
    "        globals()[df][col] = globals()[df][col].astype(float).map(lambda x: f\"{x:.3f} segs\")'''\n",
    "    \n",
    "    # Convertir columnas a enteros\n",
    "    for col in globals()[df].columns.intersection(columnas_int):\n",
    "        globals()[df][col] = globals()[df][col].astype(int)"
   ]
  },
  {
   "cell_type": "code",
   "execution_count": 19,
   "metadata": {},
   "outputs": [],
   "source": [
    "# Crear el archivo de texto y escribir la información de las tablas\n",
    "with open(\"Filtrados/csv/info_tablas.txt\", \"w\") as file:\n",
    "    file.write(\"TABLES: (registros/columnas)\\n\")\n",
    "    \n",
    "    # Recorrer la lista `tables` para agregar la información de cada DataFrame\n",
    "    for i, table_name in enumerate(tables, start=1):\n",
    "        df = globals()[table_name]  # Obtener el DataFrame correspondiente\n",
    "        shape_info = f'{df.shape[0]}/{df.shape[1]}'  # Formato de (registros/columnas)\n",
    "        \n",
    "        # Escribir la información de la tabla\n",
    "        file.write(f'      \"{i}) {table_name}: {shape_info}\\n')\n",
    "        file.write(\"           COLUMNAS: (formato)\\n\")\n",
    "        \n",
    "        tipos_de_datos = [str(tipo) for tipo in df.dtypes]\n",
    "        \n",
    "        # Escribir las columnas y los primeros valores no nulos\n",
    "        for c, col in enumerate(df.columns):\n",
    "            file.write(f'           {col}: {tipos_de_datos[c]}\\n')"
   ]
  },
  {
   "cell_type": "code",
   "execution_count": 23,
   "metadata": {},
   "outputs": [
    {
     "name": "stdout",
     "output_type": "stream",
     "text": [
      "Los datos se han guardado en Filtrados/csv/glosario_filtrado.txt.\n"
     ]
    }
   ],
   "source": [
    "# Crear un diccionario vacío\n",
    "column_dict = {}\n",
    "\n",
    "# Recorrer cada nombre en la lista \"tables\"\n",
    "for table_name in tables:\n",
    "    # Obtener el DataFrame usando globals()\n",
    "    df = globals()[table_name]\n",
    "    \n",
    "    # Recorrer las columnas del DataFrame\n",
    "    for column in df.columns:\n",
    "        # Si la columna no está en el diccionario, inicializa una lista\n",
    "        if column not in column_dict:\n",
    "            column_dict[column] = []\n",
    "        \n",
    "        # Agregar el nombre del DataFrame a la lista\n",
    "        column_dict[column].append(table_name)\n",
    "\n",
    "# Nombre del archivo donde se guardará la información\n",
    "output_file = 'Filtrados/csv/glosario_filtrado.txt'\n",
    "\n",
    "# Abrir el archivo en modo escritura\n",
    "with open(output_file, 'w') as file:\n",
    "    # Recorrer el diccionario\n",
    "    for column, dataframes in column_dict.items():\n",
    "        # Escribir el índice y sus valores en el archivo\n",
    "        file.write(f\"{column}: {', '.join(dataframes)}\\n        Descripcion: \\n\")\n",
    "\n",
    "print(f\"Los datos se han guardado en {output_file}.\")"
   ]
  },
  {
   "cell_type": "code",
   "execution_count": 44,
   "metadata": {},
   "outputs": [],
   "source": [
    "resultados = play_by_play.groupby('eventmsgactiontype')['homedescription'].agg(lambda x: palabras_comunes(x, umbral=0.2))\n",
    "resultados.to_csv('info_eventmsgactiontype.csv')"
   ]
  },
  {
   "cell_type": "code",
   "execution_count": 49,
   "metadata": {},
   "outputs": [
    {
     "name": "stdout",
     "output_type": "stream",
     "text": [
      "eventnum\n",
      "1       Tip vs. to Ball Jump Adams: Adams Gobert: Gobert\n",
      "10       nan Shot MISS Jump (Off:0 REBOUND Def:1) PTS) 1\n",
      "100                          nan FOR SUB: Shot Jump PTS)\n",
      "1003                             FOR SUB: Anderson Young\n",
      "1005                   P.FOUL (J.Goble) (P2.PN) Anderson\n",
      "                              ...                       \n",
      "98                      PTS) nan FOR SUB: Shot Jump MISS\n",
      "984                                                  nan\n",
      "989                                FOR SUB: Anderson Len\n",
      "99                           nan FOR SUB: PTS) Shot Jump\n",
      "998                              FOR SUB: Anderson Young\n",
      "Name: homedescription, Length: 908, dtype: object\n"
     ]
    }
   ],
   "source": [
    "resultados = play_by_play.groupby('eventnum')['homedescription'].agg(lambda x: palabras_comunes(x, umbral=0.1))\n",
    "print(resultados)"
   ]
  }
 ],
 "metadata": {
  "kernelspec": {
   "display_name": "Python 3",
   "language": "python",
   "name": "python3"
  },
  "language_info": {
   "codemirror_mode": {
    "name": "ipython",
    "version": 3
   },
   "file_extension": ".py",
   "mimetype": "text/x-python",
   "name": "python",
   "nbconvert_exporter": "python",
   "pygments_lexer": "ipython3",
   "version": "3.12.6"
  }
 },
 "nbformat": 4,
 "nbformat_minor": 2
}
